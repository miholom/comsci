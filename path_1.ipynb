{
 "cells": [
  {
   "cell_type": "code",
   "execution_count": null,
   "metadata": {},
   "outputs": [],
   "source": [
    "# бесконечная рекурсия фибаначи\n",
    "def fib1(n):\n",
    "    return fib1(n - 1) + fib1(n - 2)\n",
    "\n",
    "print(fib1(3))"
   ]
  },
  {
   "cell_type": "code",
   "execution_count": 12,
   "metadata": {},
   "outputs": [
    {
     "name": "stdout",
     "output_type": "stream",
     "text": [
      "832040\n",
      "--- 0.568389892578125000000000000000 seconds ---\n"
     ]
    }
   ],
   "source": [
    "# числа Фабиначчи\n",
    "import time\n",
    "\n",
    "start_time = time.time()\n",
    "\n",
    "def fib2(n):\n",
    "    if n < 2:\n",
    "        return n\n",
    "    else:\n",
    "        return fib2(n-1) + fib2(n-2)\n",
    "\n",
    "# n = int(input('Введи целое число'))\n",
    "n = 30\n",
    "print(fib2(n))\n",
    "\n",
    "end_time = time.time()\n",
    "print(f\"--- {(end_time - start_time):.30f} seconds ---\")\n"
   ]
  },
  {
   "cell_type": "code",
   "execution_count": 25,
   "metadata": {},
   "outputs": [
    {
     "name": "stdout",
     "output_type": "stream",
     "text": [
      "354224848179261915075\n",
      "--- 0.007997035980224609375000000000 seconds ---\n"
     ]
    }
   ],
   "source": [
    "# метод ручной меморизации(Memo) чисел Фибаначи\n",
    "\n",
    "from typing import Dict\n",
    "import time\n",
    "\n",
    "start_time = time.time()\n",
    "\n",
    "memo: Dict[int,int] = {0: 0, 1: 1}\n",
    "\n",
    "def fib3(n):\n",
    "    if n not in memo:\n",
    "        memo[n] = fib3(n-1) + fib3(n-2)\n",
    "    return memo[n]\n",
    "\n",
    "n = 100\n",
    "print(fib3(n))\n",
    "\n",
    "end_time = time.time()\n",
    "print(f\"--- {(end_time - start_time):.30f} seconds ---\")"
   ]
  },
  {
   "cell_type": "code",
   "execution_count": 21,
   "metadata": {},
   "outputs": [
    {
     "name": "stdout",
     "output_type": "stream",
     "text": [
      "354224848179261915075\n",
      "--- 0.007992982864379882812500000000 seconds ---\n"
     ]
    }
   ],
   "source": [
    "# метод с помощью декоратора кжшируем значения. Автоматическая меморизация\n",
    "from functools import lru_cache\n",
    "import time\n",
    "\n",
    "start_time = time.time()\n",
    "\n",
    "@lru_cache()\n",
    "def fib4(n):\n",
    "    if n < 2:\n",
    "        return n\n",
    "    else:\n",
    "        return fib4(n-1) + fib4(n-2)\n",
    "\n",
    "n = 100\n",
    "print(fib4(n))\n",
    "\n",
    "end_time = time.time()\n",
    "print(f\"--- {(end_time - start_time):.30f} seconds ---\")"
   ]
  }
 ],
 "metadata": {
  "kernelspec": {
   "display_name": "Python 3",
   "language": "python",
   "name": "python3"
  },
  "language_info": {
   "codemirror_mode": {
    "name": "ipython",
    "version": 3
   },
   "file_extension": ".py",
   "mimetype": "text/x-python",
   "name": "python",
   "nbconvert_exporter": "python",
   "pygments_lexer": "ipython3",
   "version": "3.11.2"
  },
  "orig_nbformat": 4
 },
 "nbformat": 4,
 "nbformat_minor": 2
}
