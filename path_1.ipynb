{
 "cells": [
  {
   "cell_type": "code",
   "execution_count": null,
   "metadata": {},
   "outputs": [],
   "source": [
    "# бесконечная рекурсия фибаначи\n",
    "def fib1(n):\n",
    "    return fib1(n - 1) + fib1(n - 2)\n",
    "\n",
    "print(fib1(3))"
   ]
  },
  {
   "cell_type": "code",
   "execution_count": 6,
   "metadata": {},
   "outputs": [
    {
     "name": "stdout",
     "output_type": "stream",
     "text": [
      "13\n"
     ]
    }
   ],
   "source": [
    "# числа Фабиначчи\n",
    "def fib2(n):\n",
    "    if n < 2:\n",
    "        return n\n",
    "    else:\n",
    "        return fib2(n-1) + fib2(n-2)\n",
    "\n",
    "n = int(input('Введи целое число'))\n",
    "print(fib2(n))\n"
   ]
  },
  {
   "cell_type": "code",
   "execution_count": 2,
   "metadata": {},
   "outputs": [
    {
     "name": "stdout",
     "output_type": "stream",
     "text": [
      "12586269025\n"
     ]
    }
   ],
   "source": [
    "# метод меморизации чисел Фибаначи\n",
    "\n",
    "from typing import Dict\n",
    "\n",
    "memo: Dict[int,int] = {0: 0, 1: 1}\n",
    "\n",
    "def fib3(n):\n",
    "    if n not in memo:\n",
    "        memo[n] = fib3(n-1) + fib3(n-2)\n",
    "    return memo[n]\n",
    "\n",
    "n = int(input('Введи целое число'))\n",
    "print(fib3(n))"
   ]
  }
 ],
 "metadata": {
  "kernelspec": {
   "display_name": "Python 3",
   "language": "python",
   "name": "python3"
  },
  "language_info": {
   "codemirror_mode": {
    "name": "ipython",
    "version": 3
   },
   "file_extension": ".py",
   "mimetype": "text/x-python",
   "name": "python",
   "nbconvert_exporter": "python",
   "pygments_lexer": "ipython3",
   "version": "3.11.2"
  },
  "orig_nbformat": 4
 },
 "nbformat": 4,
 "nbformat_minor": 2
}
