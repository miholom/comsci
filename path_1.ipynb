{
 "cells": [
  {
   "cell_type": "code",
   "execution_count": null,
   "metadata": {},
   "outputs": [],
   "source": [
    "# бесконечная рекурсия фибаначи\n",
    "def fib1(n):\n",
    "    return fib1(n - 1) + fib1(n - 2)\n",
    "\n",
    "print(fib1(3))"
   ]
  },
  {
   "cell_type": "code",
   "execution_count": 30,
   "metadata": {},
   "outputs": [
    {
     "name": "stdout",
     "output_type": "stream",
     "text": [
      "6765\n",
      "--- 0.010571479797363281250000000000 seconds ---\n"
     ]
    }
   ],
   "source": [
    "# числа Фабиначчи\n",
    "import time\n",
    "\n",
    "start_time = time.time()\n",
    "\n",
    "def fib2(n):\n",
    "    if n < 2:\n",
    "        return n\n",
    "    else:\n",
    "        return fib2(n-1) + fib2(n-2)\n",
    "\n",
    "# n = int(input('Введи целое число'))\n",
    "n = 20\n",
    "print(fib2(n))\n",
    "\n",
    "end_time = time.time()\n",
    "print(f\"--- {(end_time - start_time):.30f} seconds ---\")\n"
   ]
  },
  {
   "cell_type": "code",
   "execution_count": 45,
   "metadata": {},
   "outputs": [
    {
     "name": "stdout",
     "output_type": "stream",
     "text": [
      "354224848179261915075\n",
      "--- 0.007997512817382812500000000000 seconds ---\n"
     ]
    }
   ],
   "source": [
    "# метод ручной меморизации(Memo) чисел Фибаначи\n",
    "\n",
    "from typing import Dict\n",
    "import time\n",
    "\n",
    "start_time = time.time()\n",
    "\n",
    "memo: Dict[int,int] = {0: 0, 1: 1}\n",
    "\n",
    "def fib3(n):\n",
    "    if n not in memo:\n",
    "        memo[n] = fib3(n-1) + fib3(n-2)\n",
    "    return memo[n]\n",
    "\n",
    "n = 100\n",
    "print(fib3(n))\n",
    "\n",
    "end_time = time.time()\n",
    "print(f\"--- {(end_time - start_time):.30f} seconds ---\")"
   ]
  },
  {
   "cell_type": "code",
   "execution_count": 21,
   "metadata": {},
   "outputs": [
    {
     "name": "stdout",
     "output_type": "stream",
     "text": [
      "354224848179261915075\n",
      "--- 0.007992982864379882812500000000 seconds ---\n"
     ]
    }
   ],
   "source": [
    "# метод с помощью декоратора кжшируем значения. Автоматическая меморизация\n",
    "from functools import lru_cache\n",
    "import time\n",
    "\n",
    "start_time = time.time()\n",
    "\n",
    "@lru_cache()\n",
    "def fib4(n):\n",
    "    if n < 2:\n",
    "        return n\n",
    "    else:\n",
    "        return fib4(n-1) + fib4(n-2)\n",
    "\n",
    "n = 100\n",
    "print(fib4(n))\n",
    "\n",
    "end_time = time.time()\n",
    "print(f\"--- {(end_time - start_time):.30f} seconds ---\")"
   ]
  },
  {
   "cell_type": "code",
   "execution_count": 53,
   "metadata": {},
   "outputs": [
    {
     "name": "stdout",
     "output_type": "stream",
     "text": [
      "6765\n",
      "--- 0.007989168167114257812500000000 seconds ---\n"
     ]
    }
   ],
   "source": [
    "# метод с циком for, его пока не понял\n",
    "import time\n",
    "\n",
    "start_time = time.time()\n",
    "\n",
    "def fib5(n):\n",
    "    if n == 0:return n\n",
    "    last = 0\n",
    "    next = 1\n",
    "\n",
    "    for i in range(1, n):\n",
    "        last, next = next, last + next\n",
    "    return next\n",
    "\n",
    "n = 20\n",
    "print(fib5(n))\n",
    "\n",
    "end_time = time.time()\n",
    "print(f\"--- {(end_time - start_time):.30f} seconds ---\")"
   ]
  },
  {
   "cell_type": "code",
   "execution_count": 4,
   "metadata": {},
   "outputs": [
    {
     "name": "stdout",
     "output_type": "stream",
     "text": [
      "0 1 1 2 3 5 8 13 21 34 55 89 144 233 377 610 987 1597 2584 4181 6765 "
     ]
    }
   ],
   "source": [
    "# числа Фибаначи через генератор\n",
    "\n",
    "from typing import Generator\n",
    "\n",
    "def fib6(n):\n",
    "    yield 0\n",
    "    if n > 0:\n",
    "        yield 1\n",
    "    last = 0\n",
    "    next = 1\n",
    "    for i in range(1, n):\n",
    "        last, next = next, last + next\n",
    "        yield next\n",
    "\n",
    "for i in fib6(20):\n",
    "    print(i, end=\" \")"
   ]
  },
  {
   "cell_type": "code",
   "execution_count": 11,
   "metadata": {},
   "outputs": [
    {
     "name": "stdout",
     "output_type": "stream",
     "text": [
      "1. original is 2649 bytes\n",
      "2. compressed is 720 bytes\n",
      "4. AACCCTATAGAGATAGATAGAGATATAACCCTATAGAGATAGATAGAGATATAACCCTATAGAGATAGATAGAGATATAACCCTATAGAGATAGATAGAGATATAACCCTATAGAGATAGATAGAGATATAACCCTATAGAGATAGATAGAGATATAACCCTATAGAGATAGATAGAGATATAACCCTATAGAGATAGATAGAGATATAACCCTATAGAGATAGATAGAGATATAACCCTATAGAGATAGATAGAGATATAACCCTATAGAGATAGATAGAGATATAACCCTATAGAGATAGATAGAGATATAACCCTATAGAGATAGATAGAGATATAACCCTATAGAGATAGATAGAGATATAACCCTATAGAGATAGATAGAGATATAACCCTATAGAGATAGATAGAGATATAACCCTATAGAGATAGATAGAGATATAACCCTATAGAGATAGATAGAGATATAACCCTATAGAGATAGATAGAGATATAACCCTATAGAGATAGATAGAGATATAACCCTATAGAGATAGATAGAGATATAACCCTATAGAGATAGATAGAGATATAACCCTATAGAGATAGATAGAGATATAACCCTATAGAGATAGATAGAGATATAACCCTATAGAGATAGATAGAGATATAACCCTATAGAGATAGATAGAGATATAACCCTATAGAGATAGATAGAGATATAACCCTATAGAGATAGATAGAGATATAACCCTATAGAGATAGATAGAGATATAACCCTATAGAGATAGATAGAGATATAACCCTATAGAGATAGATAGAGATATAACCCTATAGAGATAGATAGAGATATAACCCTATAGAGATAGATAGAGATATAACCCTATAGAGATAGATAGAGATATAACCCTATAGAGATAGATAGAGATATAACCCTATAGAGATAGATAGAGATATAACCCTATAGAGATAGATAGAGATATAACCCTATAGAGATAGATAGAGATATAACCCTATAGAGATAGATAGAGATATAACCCTATAGAGATAGATAGAGATATAACCCTATAGAGATAGATAGAGATATAACCCTATAGAGATAGATAGAGATATAACCCTATAGAGATAGATAGAGATATAACCCTATAGAGATAGATAGAGATATAACCCTATAGAGATAGATAGAGATATAACCCTATAGAGATAGATAGAGATATAACCCTATAGAGATAGATAGAGATATAACCCTATAGAGATAGATAGAGATATAACCCTATAGAGATAGATAGAGATATAACCCTATAGAGATAGATAGAGATATAACCCTATAGAGATAGATAGAGATATAACCCTATAGAGATAGATAGAGATATAACCCTATAGAGATAGATAGAGATATAACCCTATAGAGATAGATAGAGATATAACCCTATAGAGATAGATAGAGATATAACCCTATAGAGATAGATAGAGATATAACCCTATAGAGATAGATAGAGATATAACCCTATAGAGATAGATAGAGATATAACCCTATAGAGATAGATAGAGATATAACCCTATAGAGATAGATAGAGATATAACCCTATAGAGATAGATAGAGATATAACCCTATAGAGATAGATAGAGATATAACCCTATAGAGATAGATAGAGATATAACCCTATAGAGATAGATAGAGATATAACCCTATAGAGATAGATAGAGATATAACCCTATAGAGATAGATAGAGATATAACCCTATAGAGATAGATAGAGATATAACCCTATAGAGATAGATAGAGATATAACCCTATAGAGATAGATAGAGATATAACCCTATAGAGATAGATAGAGATATAACCCTATAGAGATAGATAGAGATATAACCCTATAGAGATAGATAGAGATATAACCCTATAGAGATAGATAGAGATATAACCCTATAGAGATAGATAGAGATATAACCCTATAGAGATAGATAGAGATATAACCCTATAGAGATAGATAGAGATATAACCCTATAGAGATAGATAGAGATATAACCCTATAGAGATAGATAGAGATATAACCCTATAGAGATAGATAGAGATATAACCCTATAGAGATAGATAGAGATATAACCCTATAGAGATAGATAGAGATATAACCCTATAGAGATAGATAGAGATATAACCCTATAGAGATAGATAGAGATATAACCCTATAGAGATAGATAGAGATATAACCCTATAGAGATAGATAGAGATATAACCCTATAGAGATAGATAGAGATATAACCCTATAGAGATAGATAGAGATATAACCCTATAGAGATAGATAGAGATATAACCCTATAGAGATAGATAGAGATATAACCCTATAGAGATAGATAGAGATATAACCCTATAGAGATAGATAGAGATATAACCCTATAGAGATAGATAGAGATATAACCCTATAGAGATAGATAGAGATATAACCCTATAGAGATAGATAGAGATATAACCCTATAGAGATAGATAGAGATATAACCCTATAGAGATAGATAGAGATATAACCCTATAGAGATAGATAGAGATATAACCCTATAGAGATAGATAGAGATATAACCCTATAGAGATAGATAGAGATATAACCCTATAGAGATAGATAGAGATAT\n",
      "3. original and decompressed are the same: True\n"
     ]
    }
   ],
   "source": [
    "# простейшее сжатие\n",
    "\n",
    "class CompressedGene:\n",
    "    def __init__(self, gene: str) -> None:\n",
    "        self._compress(gene)\n",
    "\n",
    "    def _compress(self, gene: str) -> None:\n",
    "        self.bit_string: int = 1\n",
    "        for nucleotide in gene.upper():\n",
    "            self.bit_string <<= 2\n",
    "            if nucleotide == \"A\":\n",
    "                self.bit_string |= 0b00\n",
    "            elif nucleotide == \"C\":\n",
    "                self.bit_string |= 0b01\n",
    "            elif nucleotide == \"G\":\n",
    "                self.bit_string |= 0b10\n",
    "            elif nucleotide == \"T\":\n",
    "                self.bit_string |= 0b11\n",
    "            else:\n",
    "                raise ValueError(f\"Invalid Nucleotide:{nucleotide}\")\n",
    "\n",
    "    def decompress(self):\n",
    "        gene: str = \"\"\n",
    "        for i in range(0, self.bit_string.bit_length() - 1, 2):\n",
    "            bits: int = self.bit_string >> i & 0b11\n",
    "            if bits == 0b00:\n",
    "                gene += \"A\"\n",
    "            elif bits == 0b01:\n",
    "                gene += \"C\"\n",
    "            elif bits == 0b10:\n",
    "                gene += \"G\"\n",
    "            elif bits == 0b11:\n",
    "                gene += \"T\"\n",
    "            else:\n",
    "                raise ValueError(f\"Invalid bits:{bits}\")\n",
    "        return gene[::-1]\n",
    "\n",
    "    def __str__(self) -> str:\n",
    "        return self.decompress()\n",
    "\n",
    "from sys import getsizeof\n",
    "\n",
    "original = \"AACCCTATAGAGATAGATAGAGATAT\" * 100\n",
    "\n",
    "print(f\"1. original is {getsizeof(original)} bytes\")\n",
    "compressed  = CompressedGene(original)\n",
    "print(f\"2. compressed is {getsizeof(compressed.bit_string)} bytes\")\n",
    "print(f\"4. {compressed}\")\n",
    "print(f\"3. original and decompressed are the same: {original == compressed.decompress()}\")\n",
    "\n"
   ]
  },
  {
   "cell_type": "code",
   "execution_count": 13,
   "metadata": {},
   "outputs": [
    {
     "name": "stdout",
     "output_type": "stream",
     "text": [
      "59173\n"
     ]
    }
   ],
   "source": [
    "# одноразовое шифрование\n",
    "\n",
    "from secrets import token_bytes\n",
    "from typing import Tuple\n",
    "\n",
    "def random_key(leigth: int) -> int:\n",
    "    tb: bytes = token_bytes(leigth)\n",
    "    return int.from_bytes(tb, \"big\")\n",
    "\n",
    "print(random_key(2))"
   ]
  }
 ],
 "metadata": {
  "kernelspec": {
   "display_name": "Python 3",
   "language": "python",
   "name": "python3"
  },
  "language_info": {
   "codemirror_mode": {
    "name": "ipython",
    "version": 3
   },
   "file_extension": ".py",
   "mimetype": "text/x-python",
   "name": "python",
   "nbconvert_exporter": "python",
   "pygments_lexer": "ipython3",
   "version": "3.11.2"
  },
  "orig_nbformat": 4
 },
 "nbformat": 4,
 "nbformat_minor": 2
}
